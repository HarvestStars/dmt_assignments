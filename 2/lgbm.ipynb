{
 "cells": [
  {
   "cell_type": "code",
   "execution_count": 1,
   "id": "a70e3a73",
   "metadata": {},
   "outputs": [
    {
     "data": {
      "text/plain": [
       "'\\nCitation: https://www.kaggle.com/code/divyansh22/lgbm-classifier-for-airline-recommendation/notebook\\n'"
      ]
     },
     "execution_count": 1,
     "metadata": {},
     "output_type": "execute_result"
    }
   ],
   "source": [
    "import pandas as pd\n",
    "import numpy as np\n",
    "import matplotlib.pyplot as plt\n",
    "import lightgbm as lgb\n",
    "from sklearn.model_selection import train_test_split\n",
    "from sklearn.metrics import ndcg_score\n",
    "\n",
    "\"\"\"\n",
    "Citation: https://www.kaggle.com/code/divyansh22/lgbm-classifier-for-airline-recommendation/notebook\n",
    "\"\"\""
   ]
  },
  {
   "cell_type": "code",
   "execution_count": 2,
   "id": "84826e91",
   "metadata": {},
   "outputs": [],
   "source": [
    "# load the dataset\n",
    "CSV_PATH = \"../2/dmt-2025-2nd-assignment/training_set_VU_DM.csv\"\n",
    "reader = pd.read_csv(CSV_PATH,nrows=10_000_00)\n",
    "df = reader.copy()\n",
    "\n",
    "CSV_PATH2 = \"../2/dmt-2025-2nd-assignment/test_set_VU_DM.csv\"\n",
    "reader2 = pd.read_csv(CSV_PATH2)\n",
    "df2 = reader2.copy()"
   ]
  },
  {
   "cell_type": "code",
   "execution_count": 48,
   "id": "6161ba49",
   "metadata": {},
   "outputs": [],
   "source": [
    "# define user features\n",
    "user_features = [\n",
    "    \"visitor_location_country_id\",\n",
    "    \"srch_destination_id\",\n",
    "]\n",
    "df_groupable = df.dropna(subset=user_features + ['prop_id'])"
   ]
  },
  {
   "cell_type": "code",
   "execution_count": 49,
   "id": "b27d81b1",
   "metadata": {},
   "outputs": [],
   "source": [
    "# clean the data\n",
    "df_groupable[\"srch_destination_id\"] = pd.qcut(\n",
    "    df['visitor_hist_adr_usd'].fillna(df['visitor_hist_adr_usd'].median()),\n",
    "    q=4,\n",
    "    duplicates='drop'\n",
    ")\n",
    "df_groupable['visitor_location_country_id'] = pd.qcut(\n",
    "    df['visitor_hist_adr_usd'].fillna(df['visitor_hist_adr_usd'].median()),\n",
    "    q=10,\n",
    "    duplicates='drop'\n",
    ")"
   ]
  },
  {
   "cell_type": "code",
   "execution_count": 50,
   "id": "5ee866ef",
   "metadata": {},
   "outputs": [
    {
     "name": "stderr",
     "output_type": "stream",
     "text": [
      "C:\\Users\\tangx\\AppData\\Local\\Temp\\ipykernel_27268\\3710086840.py:2: FutureWarning: The default of observed=False is deprecated and will be changed to True in a future version of pandas. Pass observed=False to retain current behavior or observed=True to adopt the future default and silence this warning.\n",
      "  agg = df_groupable.groupby(user_features + ['prop_id']).agg(\n"
     ]
    }
   ],
   "source": [
    "# aggregate user features to get click and booking rates\n",
    "agg = df_groupable.groupby(user_features + ['prop_id']).agg(\n",
    "    sim_user_click_rate=('click_bool', 'mean'),\n",
    "    sim_user_book_rate=('booking_bool', 'mean')\n",
    ").reset_index()\n",
    "\n",
    "# merge back to the original dataframe\n",
    "df = df.merge(agg, on=user_features + ['prop_id'], how='left') # train\n",
    "df2 = df2.merge(agg, on=user_features + ['prop_id'], how='left') # test"
   ]
  },
  {
   "cell_type": "code",
   "execution_count": 51,
   "id": "460de953",
   "metadata": {},
   "outputs": [],
   "source": [
    "# fill in the missing values\n",
    "df['sim_user_click_rate'] = df['sim_user_click_rate'].fillna(0)\n",
    "df['sim_user_book_rate'] = df['sim_user_book_rate'].fillna(0)\n",
    "df2['sim_user_click_rate'] = df2['sim_user_click_rate'].fillna(0)\n",
    "df2['sim_user_book_rate'] = df2['sim_user_book_rate'].fillna(0)\n"
   ]
  },
  {
   "cell_type": "code",
   "execution_count": 52,
   "id": "db5ff9d4",
   "metadata": {},
   "outputs": [
    {
     "name": "stdout",
     "output_type": "stream",
     "text": [
      "label\n",
      "0    955274\n",
      "6     27738\n",
      "1     16988\n",
      "Name: count, dtype: int64\n",
      "Train set size: (949546, 57)\n",
      "Validation set size: (50454, 57)\n"
     ]
    }
   ],
   "source": [
    "# combined labels for click an booking\n",
    "df['label'] = df['booking_bool'] * 5 + df['click_bool'] * 1\n",
    "\n",
    "# group search session by user id\n",
    "unique_searches = df['srch_id'].unique()\n",
    "\n",
    "# split the train and test set\n",
    "search_train, search_va = train_test_split(unique_searches, test_size=0.05, random_state=42)\n",
    "\n",
    "# create a train and test dataset\n",
    "train_df = df[df['srch_id'].isin(search_train)].sort_values('srch_id')\n",
    "val_df  = df[df['srch_id'].isin(search_va)].sort_values('srch_id')\n",
    "\n",
    "print(df['label'].value_counts())\n",
    "print(f\"Train set size: {train_df.shape}\")\n",
    "print(f\"Validation set size: {val_df.shape}\")\n"
   ]
  },
  {
   "cell_type": "code",
   "execution_count": 55,
   "id": "efe57dde",
   "metadata": {},
   "outputs": [
    {
     "name": "stdout",
     "output_type": "stream",
     "text": [
      "Group train size: 949546\n",
      "X_train size: (949546, 15)\n"
     ]
    }
   ],
   "source": [
    "# prepare the input and labels for the model\n",
    "features = [\n",
    "        \"srch_length_of_stay\",\n",
    "        \"srch_booking_window\",\n",
    "        \"srch_adults_count\",\n",
    "        \"srch_children_count\",\n",
    "        \"srch_room_count\",\n",
    "        \"srch_saturday_night_bool\",\n",
    "        \"prop_review_score\",\n",
    "        \"prop_starrating\",\n",
    "        \"price_usd\",\n",
    "        \"promotion_flag\",\n",
    "        \"prop_brand_bool\",\n",
    "        \"prop_location_score1\",\n",
    "        \"prop_log_historical_price\",\n",
    "        \"sim_user_click_rate\",\n",
    "        \"sim_user_book_rate\",\n",
    "        ]\n",
    "X_train = train_df[features]\n",
    "X_val = val_df[features]\n",
    "y_train = train_df['label']\n",
    "y_val = val_df['label'] \n",
    "group_train = train_df.groupby('srch_id').size().to_list()\n",
    "\n",
    "# these two parts should have the same size\n",
    "print(f\"Group train size: {sum(group_train)}\")\n",
    "print(f\"X_train size: {X_train.shape}\")\n",
    "\n",
    "# create a validation set\n",
    "val_group = val_df.groupby('srch_id').size().to_list()\n",
    "val_set = lgb.Dataset(X_val, label=y_val, group=val_group)"
   ]
  },
  {
   "cell_type": "code",
   "execution_count": 56,
   "id": "30c1f41e",
   "metadata": {},
   "outputs": [],
   "source": [
    "# train the models\n",
    "params = {\n",
    "    \"objective\": \"binary\",\n",
    "    \"metric\": \"auc\",\n",
    "    \"boosting_type\": \"gbdt\",\n",
    "    \"num_leaves\": 31,\n",
    "    \"learning_rate\": 0.05,\n",
    "    \"feature_fraction\": 0.9,\n",
    "    \"bagging_fraction\": 0.8,\n",
    "    \"bagging_freq\": 5,\n",
    "    \"verbose\": 0,\n",
    "}\n",
    "train_data = lgb.Dataset(X_train, label=y_train, group=group_train)\n",
    "model = lgb.train(\n",
    "    params,\n",
    "    train_data,\n",
    "    valid_sets=[train_data, val_set],\n",
    "    valid_names=['train', 'valid'],\n",
    "    num_boost_round=1000,\n",
    ")"
   ]
  },
  {
   "cell_type": "code",
   "execution_count": 57,
   "id": "33dc8da3",
   "metadata": {},
   "outputs": [
    {
     "name": "stdout",
     "output_type": "stream",
     "text": [
      "    srch_id  prop_id     score  rank\n",
      "23        1    99484  0.080885   1.0\n",
      "9         1    54937  0.075727   2.0\n",
      "12        1    61934  0.074005   3.0\n",
      "14        1    72090  0.058078   4.0\n",
      "20        1    90385  0.057916   5.0\n",
      "7         1    37567  0.054481   6.0\n",
      "4         1    24194  0.054430   7.0\n",
      "5         1    28181  0.053690   8.0\n",
      "6         1    34263  0.052208   9.0\n",
      "8         1    50162  0.048823  10.0\n",
      "22        1    95031  0.045193  11.0\n",
      "18        1    82231  0.044895  12.0\n",
      "16        1    74045  0.043972  13.0\n",
      "17        1    78599  0.043812  14.0\n",
      "13        1    63894  0.043341  15.0\n",
      "0         1     3180  0.040648  16.0\n",
      "1         1     5543  0.038564  17.0\n",
      "25        1   128085  0.037398  18.0\n",
      "24        1   123675  0.035264  19.0\n",
      "3         1    22393  0.033581  20.0\n"
     ]
    }
   ],
   "source": [
    "# prediction on the test set\n",
    "X_test = df2[features]\n",
    "df2['score'] = model.predict(X_test)\n",
    "df2['rank'] = df2.groupby('srch_id')['score'].rank(ascending=False)\n",
    "output = df2[['srch_id', 'prop_id', 'score', 'rank']].sort_values(['srch_id', 'rank'])\n",
    "print(output.head(20))"
   ]
  },
  {
   "cell_type": "code",
   "execution_count": 28,
   "id": "56be99e4",
   "metadata": {},
   "outputs": [
    {
     "data": {
      "text/plain": [
       "'top_preds = test_df[test_df[\\'rank\\'] == 1]\\nhit_rate = top_preds[\\'booking_bool\\'].mean()\\nprint(f\"Hit@1 (Top-1 Booking Accuracy): {hit_rate:.3f}\")\\n\\n# compute the ndcg score\\nndcg_list = []\\nfor srch_id, group in test_df.groupby(\\'srch_id\\'):\\n    y_true = group[\\'label\\'].values.reshape(1, -1)\\n    y_score = group[\\'score\\'].values.reshape(1, -1)\\n    ndcg = ndcg_score(y_true, y_score, k = 5)\\n    ndcg_list.append(ndcg)\\nndcg = np.mean(ndcg_list)\\nprint(f\"The ndcg score of the model is: {ndcg:.3f}\")'"
      ]
     },
     "execution_count": 28,
     "metadata": {},
     "output_type": "execute_result"
    }
   ],
   "source": [
    "# evaluate the ranking \n",
    "\"\"\"top_preds = test_df[test_df['rank'] == 1]\n",
    "hit_rate = top_preds['booking_bool'].mean()\n",
    "print(f\"Hit@1 (Top-1 Booking Accuracy): {hit_rate:.3f}\")\n",
    "\n",
    "# compute the ndcg score\n",
    "ndcg_list = []\n",
    "for srch_id, group in test_df.groupby('srch_id'):\n",
    "    y_true = group['label'].values.reshape(1, -1)\n",
    "    y_score = group['score'].values.reshape(1, -1)\n",
    "    ndcg = ndcg_score(y_true, y_score, k = 5)\n",
    "    ndcg_list.append(ndcg)\n",
    "ndcg = np.mean(ndcg_list)\n",
    "print(f\"The ndcg score of the model is: {ndcg:.3f}\")\"\"\""
   ]
  },
  {
   "cell_type": "code",
   "execution_count": 59,
   "id": "5262c7ef",
   "metadata": {},
   "outputs": [],
   "source": [
    "# print the output as a csv file\n",
    "submission = output[['srch_id', 'prop_id']].copy()\n",
    "submission.to_csv('hotel_rankings.csv', index=False)"
   ]
  },
  {
   "cell_type": "code",
   "execution_count": null,
   "id": "86a0c2c5",
   "metadata": {},
   "outputs": [],
   "source": []
  }
 ],
 "metadata": {
  "kernelspec": {
   "display_name": "base",
   "language": "python",
   "name": "python3"
  },
  "language_info": {
   "codemirror_mode": {
    "name": "ipython",
    "version": 3
   },
   "file_extension": ".py",
   "mimetype": "text/x-python",
   "name": "python",
   "nbconvert_exporter": "python",
   "pygments_lexer": "ipython3",
   "version": "3.11.4"
  }
 },
 "nbformat": 4,
 "nbformat_minor": 5
}
