{
 "cells": [
  {
   "cell_type": "code",
   "execution_count": 176,
   "id": "a70e3a73",
   "metadata": {},
   "outputs": [],
   "source": [
    "import pandas as pd\n",
    "import numpy as np\n",
    "import matplotlib.pyplot as plt\n",
    "import lightgbm as lgb\n",
    "from sklearn.model_selection import train_test_split\n",
    "from sklearn.metrics import ndcg_score"
   ]
  },
  {
   "cell_type": "code",
   "execution_count": 202,
   "id": "84826e91",
   "metadata": {},
   "outputs": [],
   "source": [
    "# load the dataset\n",
    "CSV_PATH = \"../2/dmt-2025-2nd-assignment/training_set_VU_DM.csv\"\n",
    "reader = pd.read_csv(CSV_PATH, nrows=1_000_00)\n",
    "df = reader.copy()"
   ]
  },
  {
   "cell_type": "code",
   "execution_count": 221,
   "id": "db5ff9d4",
   "metadata": {},
   "outputs": [
    {
     "name": "stdout",
     "output_type": "stream",
     "text": [
      "Train set size: (89546, 55)\n",
      "Test set size: (10454, 55)\n"
     ]
    }
   ],
   "source": [
    "# combined labels for click an booking\n",
    "df['label'] = df['booking_bool'] * 6 + df['click_bool'] * 1\n",
    "\n",
    "# group search session by user id\n",
    "unique_searches = df['srch_id'].unique()\n",
    "\n",
    "# split the train and test set\n",
    "search_train, search_test = train_test_split(unique_searches, test_size=0.1, random_state=42)\n",
    "\n",
    "# create a train and test dataset\n",
    "train_df = df[df['srch_id'].isin(search_train)].sort_values('srch_id')\n",
    "test_df  = df[df['srch_id'].isin(search_test)].sort_values('srch_id')\n",
    "\n",
    "print(f\"Train set size: {train_df.shape}\")\n",
    "print(f\"Test set size: {test_df.shape}\")\n"
   ]
  },
  {
   "cell_type": "code",
   "execution_count": 222,
   "id": "efe57dde",
   "metadata": {},
   "outputs": [
    {
     "name": "stdout",
     "output_type": "stream",
     "text": [
      "Group train size: 89546\n",
      "X_train size: (89546, 14)\n"
     ]
    }
   ],
   "source": [
    "# prepare the input and labels for the model\n",
    "features = [\"srch_destination_id\",\n",
    "        \"srch_length_of_stay\",\n",
    "        \"srch_booking_window\",\n",
    "        \"srch_adults_count\",\n",
    "        \"srch_children_count\",\n",
    "        \"srch_room_count\",\n",
    "        \"srch_saturday_night_bool\",\n",
    "        \"prop_review_score\",\n",
    "        \"prop_starrating\",\n",
    "        \"price_usd\",\n",
    "        \"promotion_flag\",\n",
    "        \"prop_brand_bool\",\n",
    "        \"prop_location_score1\",\n",
    "        \"prop_log_historical_price\",]\n",
    "X_train = train_df[features]\n",
    "y_train = train_df['label']\n",
    "group_train = train_df.groupby('srch_id').size().to_list()\n",
    "\n",
    "# these two parts should have the same size\n",
    "print(f\"Group train size: {sum(group_train)}\")\n",
    "print(f\"X_train size: {X_train.shape}\")"
   ]
  },
  {
   "cell_type": "code",
   "execution_count": 237,
   "id": "30c1f41e",
   "metadata": {},
   "outputs": [],
   "source": [
    "# train the models\n",
    "params = {\n",
    "    \"objective\": \"binary\",\n",
    "    \"metric\": \"auc\",\n",
    "    \"boosting_type\": \"gbdt\",\n",
    "    \"num_leaves\": 31,\n",
    "    \"learning_rate\": 0.05,\n",
    "    \"feature_fraction\": 0.9,\n",
    "    \"bagging_fraction\": 0.8,\n",
    "    \"bagging_freq\": 5,\n",
    "    \"verbose\": 0,\n",
    "}\n",
    "train_data = lgb.Dataset(X_train, label=y_train, group=group_train)\n",
    "model = lgb.train(params, train_data, num_boost_round=100)"
   ]
  },
  {
   "cell_type": "code",
   "execution_count": 238,
   "id": "33dc8da3",
   "metadata": {},
   "outputs": [
    {
     "name": "stdout",
     "output_type": "stream",
     "text": [
      "     srch_id  prop_id     score  rank\n",
      "223       25    66209  0.162338   1.0\n",
      "227       25    81772  0.132279   2.0\n",
      "209       25    20707  0.087507   3.0\n",
      "224       25    68528  0.085641   4.0\n",
      "210       25    22710  0.085594   5.0\n",
      "216       25    54226  0.084712   6.0\n",
      "231       25   112716  0.081688   7.0\n",
      "218       25    61189  0.072072   8.0\n",
      "211       25    23228  0.068430   9.0\n",
      "232       25   118859  0.062947  10.0\n",
      "237       25   126136  0.062157  11.0\n",
      "233       25   120046  0.058764  12.0\n",
      "229       25    88629  0.048486  13.0\n",
      "207       25     2863  0.047009  14.0\n",
      "214       25    53298  0.046958  15.0\n",
      "236       25   125384  0.045658  16.0\n",
      "226       25    79870  0.045264  17.0\n",
      "219       25    61885  0.044372  18.0\n",
      "222       25    66171  0.043264  19.0\n",
      "228       25    83281  0.042120  20.0\n"
     ]
    }
   ],
   "source": [
    "# prediction on the test set\n",
    "X_test = test_df[features]\n",
    "test_df['score'] = model.predict(X_test)\n",
    "test_df['rank'] = test_df.groupby('srch_id')['score'].rank(ascending=False)\n",
    "output = test_df[['srch_id', 'prop_id', 'score', 'rank']].sort_values(['srch_id', 'rank'])\n",
    "print(output.head(20))"
   ]
  },
  {
   "cell_type": "code",
   "execution_count": 239,
   "id": "56be99e4",
   "metadata": {},
   "outputs": [
    {
     "name": "stdout",
     "output_type": "stream",
     "text": [
      "Hit@1 (Top-1 Booking Accuracy): 0.092\n",
      "The ndcg score of the model is: 0.260\n"
     ]
    }
   ],
   "source": [
    "# evaluate the ranking \n",
    "top_preds = test_df[test_df['rank'] == 1]\n",
    "hit_rate = top_preds['booking_bool'].mean()\n",
    "print(f\"Hit@1 (Top-1 Booking Accuracy): {hit_rate:.3f}\")\n",
    "\n",
    "# compute the ndcg score\n",
    "ndcg_list = []\n",
    "for srch_id, group in test_df.groupby('srch_id'):\n",
    "    y_true = group['label'].values.reshape(1, -1)\n",
    "    y_score = group['score'].values.reshape(1, -1)\n",
    "    ndcg = ndcg_score(y_true, y_score, k = 5)\n",
    "    ndcg_list.append(ndcg)\n",
    "ndcg = np.mean(ndcg_list)\n",
    "print(f\"The ndcg score of the model is: {ndcg:.3f}\")"
   ]
  },
  {
   "cell_type": "code",
   "execution_count": null,
   "id": "5262c7ef",
   "metadata": {},
   "outputs": [],
   "source": []
  }
 ],
 "metadata": {
  "kernelspec": {
   "display_name": "base",
   "language": "python",
   "name": "python3"
  },
  "language_info": {
   "codemirror_mode": {
    "name": "ipython",
    "version": 3
   },
   "file_extension": ".py",
   "mimetype": "text/x-python",
   "name": "python",
   "nbconvert_exporter": "python",
   "pygments_lexer": "ipython3",
   "version": "3.11.4"
  }
 },
 "nbformat": 4,
 "nbformat_minor": 5
}
